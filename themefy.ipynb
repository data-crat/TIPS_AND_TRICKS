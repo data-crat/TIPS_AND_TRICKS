{
 "cells": [
  {
   "cell_type": "markdown",
   "metadata": {},
   "source": [
    "# jupyter-themes package by Kyle Dunovan is here to help"
   ]
  },
  {
   "cell_type": "code",
   "execution_count": null,
   "metadata": {},
   "outputs": [],
   "source": [
    "# On the anaconda prompt\n",
    "#install via conda \n",
    "conda install -c conda-forge jupyterthemes\n",
    "\n",
    "#or\n",
    "\n",
    "#install via pip\n",
    "pip install jupyterthemes"
   ]
  },
  {
   "cell_type": "code",
   "execution_count": null,
   "metadata": {},
   "outputs": [],
   "source": [
    "#install withing the open notebook\n",
    "!pip install jupyterthemes"
   ]
  },
  {
   "cell_type": "code",
   "execution_count": 6,
   "metadata": {},
   "outputs": [
    {
     "name": "stdout",
     "output_type": "stream",
     "text": [
      "Available Themes: \n",
      "   chesterish\n",
      "   grade3\n",
      "   gruvboxd\n",
      "   gruvboxl\n",
      "   monokai\n",
      "   oceans16\n",
      "   onedork\n",
      "   solarizedd\n",
      "   solarizedl\n"
     ]
    }
   ],
   "source": [
    "# Want to list all the available themes with the package?\n",
    "!jt -l"
   ]
  },
  {
   "cell_type": "code",
   "execution_count": 8,
   "metadata": {},
   "outputs": [],
   "source": [
    "#choose your favorite from the list\n",
    "!jt -t chesterish"
   ]
  },
  {
   "cell_type": "markdown",
   "metadata": {},
   "source": [
    "# FINALLY DO NOT FORGET TO REFRESH/RESTART THE NOTEBOOK"
   ]
  },
  {
   "cell_type": "code",
   "execution_count": 9,
   "metadata": {},
   "outputs": [
    {
     "name": "stdout",
     "output_type": "stream",
     "text": [
      "Reset css and font defaults in:\n",
      "C:\\Users\\shashank.upadhyay\\.jupyter\\custom &\n",
      "C:\\Users\\shashank.upadhyay\\AppData\\Roaming\\jupyter\\nbextensions\n"
     ]
    }
   ],
   "source": [
    "#if you aren't satisfied with the changes or want to revert back to default mode\n",
    "\n",
    "#within the open notebook\n",
    "!jt -r  "
   ]
  },
  {
   "cell_type": "markdown",
   "metadata": {},
   "source": [
    "# Want more ? \n",
    "# 1.font change\n",
    "# 2.toggle on/off a toolbar\n",
    "# 3.cursor color\n",
    "# 4.cell width and height\n",
    "# etc\n",
    "# Please use this great resource by : \n",
    "https://github.com/dunovank/jupyter-themes/blob/master/README.md"
   ]
  }
 ],
 "metadata": {
  "celltoolbar": "Raw Cell Format",
  "kernelspec": {
   "display_name": "Python 3",
   "language": "python",
   "name": "python3"
  },
  "language_info": {
   "codemirror_mode": {
    "name": "ipython",
    "version": 3
   },
   "file_extension": ".py",
   "mimetype": "text/x-python",
   "name": "python",
   "nbconvert_exporter": "python",
   "pygments_lexer": "ipython3",
   "version": "3.7.0"
  }
 },
 "nbformat": 4,
 "nbformat_minor": 2
}
